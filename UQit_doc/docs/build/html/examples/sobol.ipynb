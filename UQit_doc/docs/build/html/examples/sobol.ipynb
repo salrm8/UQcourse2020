{
 "cells": [
  {
   "cell_type": "markdown",
   "metadata": {},
   "source": [
    "# Sobol Sensitivity Indices\n",
    "\n",
    "Saleh Rezaeiravesh, salehr@kth.se <br/>\n",
    "SimEx/FLOW, Engineering Mechanics, KTH Royal Institute of Technology, Stockholm, Sweden\n"
   ]
  },
  {
   "cell_type": "code",
   "execution_count": 1,
   "metadata": {},
   "outputs": [],
   "source": [
    "import os\n",
    "import sys\n",
    "import numpy as np\n",
    "import math as mt\n",
    "import matplotlib.pyplot as plt\n",
    "from UQit.sobol import sobol\n",
    "import UQit.analyticTestFuncs as analyticTestFuncs\n",
    "from UQit.pce import pce, pceEval\n",
    "import UQit.reshaper as reshaper\n",
    "import UQit.sampling as sampling"
   ]
  },
  {
   "cell_type": "markdown",
   "metadata": {},
   "source": [
    "### Example 1: Sobol indices for 2 uniform parameters"
   ]
  },
  {
   "cell_type": "markdown",
   "metadata": {},
   "source": [
    "Consider the following analytical function, \n",
    "$$\n",
    "\\begin{equation}\n",
    "f(\\mathbf{q}) = q_1^2+q_1 q_2\n",
    "\\label{eq:1dModel}\\tag{3}\n",
    "\\end{equation}\n",
    "$$\n",
    "\n",
    "where $\\mathbf{q}=\\{q_1,q_2\\}$, and both parameters are random with uniform distributions, i.e., $q_1\\sim \\mathcal{U}[\\mathbb{Q}_1]$ and $q_2\\sim \\mathcal{U}[\\mathbb{Q}_2]$. \n",
    "The aim is to compute the main Sobol indices using `UQit` and validate them with the analytical values..\n",
    "\n",
    "The above model function (simulator) is implemented in `analyticTestFuncs.fEx2D` with keyword `type3`. "
   ]
  },
  {
   "cell_type": "markdown",
   "metadata": {},
   "source": [
    "**Step 1:** Set the number of samples for $q_1$ and $q_2$ and their associated admissible spaces $\\mathbb{Q}_1$ and $\\mathbb{Q}_2$"
   ]
  },
  {
   "cell_type": "code",
   "execution_count": 2,
   "metadata": {},
   "outputs": [],
   "source": [
    "n=[100, 90]       #number of samples for q1 and q2\n",
    "qBound=[[-3,1],   #admissible space of q1 and q2\n",
    "        [-1,2]]"
   ]
  },
  {
   "cell_type": "markdown",
   "metadata": {},
   "source": [
    "**Step 2:** Generate samples for parameters $q_1$ and $q_2$. We choose to have samples to be uniformly spaced over the parameter spaces. "
   ]
  },
  {
   "cell_type": "code",
   "execution_count": 3,
   "metadata": {},
   "outputs": [],
   "source": [
    "p=len(n)\n",
    "q=[]\n",
    "pdf=[]\n",
    "for i in range(p):\n",
    "    q.append(np.linspace(qBound[i][0],qBound[i][1],n[i]))\n",
    "    pdf.append(np.ones(n[i])/(qBound[i][1]-qBound[i][0]))"
   ]
  },
  {
   "cell_type": "markdown",
   "metadata": {},
   "source": [
    "**Step 3:** Run the simulator (3) at the parameter samples to generate training model outputs. We assume that a 2D sample parameter is obtained by tensor product of the samples for $q_1$ and $q_2$. "
   ]
  },
  {
   "cell_type": "code",
   "execution_count": 4,
   "metadata": {},
   "outputs": [],
   "source": [
    "fEx_=analyticTestFuncs.fEx2D(q[0],q[1],'type3','tensorProd')\n",
    "fEx=np.reshape(fEx_.val,n,'F')"
   ]
  },
  {
   "cell_type": "markdown",
   "metadata": {},
   "source": [
    "**Step 4:** Compute first- and second-order main and also total Sobol sensitivity indices:"
   ]
  },
  {
   "cell_type": "code",
   "execution_count": 5,
   "metadata": {},
   "outputs": [],
   "source": [
    "sobol_=sobol(q,fEx,pdf)\n",
    "Si=sobol_.Si\n",
    "STi=sobol_.STi\n",
    "Sij=sobol_.Sij"
   ]
  },
  {
   "cell_type": "markdown",
   "metadata": {},
   "source": [
    "**Step 5:** Validate the computed Sobol indices through comparison with the analytical values. To this end, we have derived expressions to compute the exact Sobol indices for the above model function. Note that, in general since the exact form of the model function (simulator) is not known, exact Sobol indices can not be evaluated. "
   ]
  },
  {
   "cell_type": "code",
   "execution_count": 6,
   "metadata": {},
   "outputs": [],
   "source": [
    "fEx_.sobol(qBound)\n",
    "Si_ex=fEx_.Si\n",
    "STi_ex=fEx_.STi\n",
    "Sij_ex=fEx_.Sij"
   ]
  },
  {
   "cell_type": "markdown",
   "metadata": {},
   "source": [
    "**Results:**"
   ]
  },
  {
   "cell_type": "code",
   "execution_count": 7,
   "metadata": {},
   "outputs": [
    {
     "name": "stdout",
     "output_type": "stream",
     "text": [
      "Main indices by UQit:\n",
      "\t S1=0.716474, S2=0.121511, S12=0.162015\n",
      "Analytical main Indices:\n",
      "\t S1=0.716472, S2=0.121512, S12=0.162016\n"
     ]
    }
   ],
   "source": [
    "print('Main indices by UQit:\\n\\t S1=%g, S2=%g, S12=%g' %(Si[0],Si[1],Sij[0]))\n",
    "print('Analytical main Indices:\\n\\t S1=%g, S2=%g, S12=%g' %(Si_ex[0],Si_ex[1],Sij_ex[0]))"
   ]
  },
  {
   "cell_type": "markdown",
   "metadata": {},
   "source": [
    "**Extra:** In the above example, all the required samples to compute the Sobol indices were drawn directly from the simulator. This can be the case when running the simulator is computationally inexpensive. But in practice, we need to deal with the cases where the computational cost of running the simulator limits the number of training samples. \n",
    "In such situations, we need to construct a surrogate based on a limited number of training data and then use the surrogate to compute the Sobol indices. \n",
    "\n",
    "Following this procedure, we repeat the previous example. "
   ]
  },
  {
   "cell_type": "markdown",
   "metadata": {},
   "source": [
    "**Step 1:** Draw a few samples to construct the PCE surrogate. We choose to have the parameter samples to be Gauss-Legendre points. The simulator is run at these parameter samples. "
   ]
  },
  {
   "cell_type": "code",
   "execution_count": 8,
   "metadata": {},
   "outputs": [],
   "source": [
    "nQpce=[5,6]    #number of samples from q1, q2 to construct surrogate\n",
    "xi=[]\n",
    "qpce=[]\n",
    "for i in range(p):\n",
    "    samps=sampling.trainSample(sampleType='GQ',GQdistType='Unif',qInfo=qBound[i],nSamp=nQpce[i])\n",
    "    xi.append(samps.xi)\n",
    "    qpce.append(samps.q)\n",
    "fVal_pceCnstrct=analyticTestFuncs.fEx2D(qpce[0],qpce[1],'type3','tensorProd').val"
   ]
  },
  {
   "cell_type": "markdown",
   "metadata": {},
   "source": [
    "**Step 2:** Construct the PCE surrogate"
   ]
  },
  {
   "cell_type": "code",
   "execution_count": 9,
   "metadata": {},
   "outputs": [
    {
     "name": "stdout",
     "output_type": "stream",
     "text": [
      "... A gPCE for a 2-D parameter space is constructed.\n",
      "...... Samples in each direction are Gauss Quadrature nodes (User should check this!).\n",
      "...... PCE truncation method: TP\n",
      "...... Method of computing PCE coefficients: Projection\n",
      "...... Number of terms in PCE, K=  30\n",
      "...... Number of Data point, n=  30\n"
     ]
    }
   ],
   "source": [
    "xiGrid=reshaper.vecs2grid(xi)\n",
    "pceDict={'p':2,'sampleType':'GQ','truncMethod':'TP','pceSolveMethod':'Projection',\n",
    "             'distType':['Unif']*p}\n",
    "pce_=pce(fVal=fVal_pceCnstrct,nQList=nQpce,xi=xiGrid,pceDict=pceDict)"
   ]
  },
  {
   "cell_type": "markdown",
   "metadata": {},
   "source": [
    "**Step 3:** Run the surrogate at test samples which are used to compute the Sobol indices. The test samples are taken from $\\mathbb{Q}$. "
   ]
  },
  {
   "cell_type": "code",
   "execution_count": 10,
   "metadata": {},
   "outputs": [],
   "source": [
    "qpceTest=[]\n",
    "xiTest=[]\n",
    "for i in range(p):\n",
    "    testSamps=sampling.testSample('unifSpaced',GQdistType='Unif',qBound=qBound[i],nSamp=n[i])\n",
    "    xiTest.append(testSamps.xi)\n",
    "    qpceTest.append(testSamps.q)\n",
    "fPCETest_=pceEval(coefs=pce_.coefs,kSet=pce_.kSet,xi=xiTest,distType=['Unif']*2)\n",
    "fPCETest=fPCETest_.pceVal"
   ]
  },
  {
   "cell_type": "markdown",
   "metadata": {},
   "source": [
    "**Step 4:** Compute the Sobol indices using the surrogate values. "
   ]
  },
  {
   "cell_type": "code",
   "execution_count": 11,
   "metadata": {},
   "outputs": [],
   "source": [
    "sobolPCE_=sobol(qpceTest,fPCETest,pdf)\n",
    "Si_pce=sobolPCE_.Si\n",
    "Sij_pce=sobolPCE_.Sij"
   ]
  },
  {
   "cell_type": "markdown",
   "metadata": {},
   "source": [
    "We can validate the computed indices by comparing them to the values resulted from the previous example (where actual simulator is used). "
   ]
  },
  {
   "cell_type": "code",
   "execution_count": 12,
   "metadata": {},
   "outputs": [
    {
     "name": "stdout",
     "output_type": "stream",
     "text": [
      "Indices by the surrogate:\n",
      "\t S1=0.716474, S2=0.121511, S12=0.162015\n"
     ]
    }
   ],
   "source": [
    "print('Indices by the surrogate:\\n\\t S1=%g, S2=%g, S12=%g' %(Si_pce[0],Si_pce[1],Sij_pce[0]))"
   ]
  },
  {
   "cell_type": "markdown",
   "metadata": {},
   "source": [
    "### Example 2: Sobol indices for 2 parameters with Gaussian distributions"
   ]
  },
  {
   "cell_type": "markdown",
   "metadata": {},
   "source": [
    "Let's do Example 15.7 in [Smith](https://rsmith.math.ncsu.edu/UQ_TIA/).\n",
    "\n",
    "$$\n",
    "f(\\mathbf{q})=c_1 q_1 +c_2 q_2\n",
    "$$\n",
    "\n",
    "where $c_1$ and $c_2$ are constant parameters, and $q_i\\sim\\mathcal{N}(0,\\sigma_i^2)$ for $i=1,2$. \n",
    "For different values of $c_1,\\,c_2,\\,\\sigma_1$ and $\\sigma_2$, we can compare the Sobol indices computed by `UQit` and associted exact values. "
   ]
  },
  {
   "cell_type": "markdown",
   "metadata": {},
   "source": [
    "Settings:"
   ]
  },
  {
   "cell_type": "code",
   "execution_count": 13,
   "metadata": {},
   "outputs": [],
   "source": [
    "n=[101, 100]        #number of samples for q1 and q2\n",
    "qBound=[[-20,20],   #admissible range of parameters\n",
    "        [-20,20]]\n",
    "sig=[1.,3.]\n",
    "c=[2,1]"
   ]
  },
  {
   "cell_type": "markdown",
   "metadata": {},
   "source": [
    "Generate uniformly-spaced values for the parameters; construct and plot the PDFs (probability density functions)."
   ]
  },
  {
   "cell_type": "code",
   "execution_count": 14,
   "metadata": {},
   "outputs": [
    {
     "data": {
      "image/png": "[encoded data removed]",
      "text/plain": [
       "<Figure size 432x288 with 1 Axes>"
      ]
     },
     "metadata": {
      "needs_background": "light"
     },
     "output_type": "display_data"
    }
   ],
   "source": [
    "q=[]\n",
    "pdf=[]\n",
    "for i in range(p):\n",
    "    q.append(np.linspace(qBound[i][0],qBound[i][1],n[i]))\n",
    "    pdf_=np.exp(-q[i]**2/(2*sig[i]**2))/(sig[i]*mt.sqrt(2*mt.pi))\n",
    "    pdf.append(pdf_)\n",
    "    plt.plot(q[i],pdf[i],label='pdf of q'+str(i+1))\n",
    "plt.legend(loc='best')\n",
    "plt.show()"
   ]
  },
  {
   "cell_type": "markdown",
   "metadata": {},
   "source": [
    "Compute the function values at the samples"
   ]
  },
  {
   "cell_type": "code",
   "execution_count": 15,
   "metadata": {},
   "outputs": [],
   "source": [
    "fEx=np.zeros(n)\n",
    "for j in range(n[1]):\n",
    "    for i in range(n[0]):\n",
    "        fEx[i,j]=c[0]*q[0][i]+c[1]*q[1][j]"
   ]
  },
  {
   "cell_type": "markdown",
   "metadata": {},
   "source": [
    "Compute the Sobol indices"
   ]
  },
  {
   "cell_type": "code",
   "execution_count": 16,
   "metadata": {},
   "outputs": [],
   "source": [
    "sobol_=sobol(q,fEx,pdf=pdf)\n",
    "Si=sobol_.Si\n",
    "STi=sobol_.STi\n",
    "Sij=sobol_.Sij"
   ]
  },
  {
   "cell_type": "markdown",
   "metadata": {},
   "source": [
    "Validate the computed indices against corresponding exact values"
   ]
  },
  {
   "cell_type": "code",
   "execution_count": 17,
   "metadata": {},
   "outputs": [
    {
     "name": "stdout",
     "output_type": "stream",
     "text": [
      " > Main Indices by UQit:\n",
      "\t S1=0.307692, S2=0.692308, S12=1.93492e-22\n",
      " > Main Analytical Reference:\n",
      "\t S1=0.307692, S2=0.692308, S12=0\n"
     ]
    }
   ],
   "source": [
    "Si_ex=[(c[0]*sig[0])**2./(c[0]**2*sig[0]**2+c[1]**2*sig[1]**2),\n",
    "           (c[1]*sig[1])**2./(c[0]**2*sig[0]**2+c[1]**2*sig[1]**2)]\n",
    "Sij_ex=[0]\n",
    "print(' > Main Indices by UQit:\\n\\t S1=%g, S2=%g, S12=%g' %(Si[0],Si[1],Sij[0]))\n",
    "print(' > Main Analytical Reference:\\n\\t S1=%g, S2=%g, S12=%g' %(Si_ex[0],Si_ex[1],Sij_ex[0]))"
   ]
  },
  {
   "cell_type": "markdown",
   "metadata": {},
   "source": [
    "### Example 3: Sobol indices for 3 uniform parameters"
   ]
  },
  {
   "cell_type": "markdown",
   "metadata": {},
   "source": [
    "Consider the following analytical function, \n",
    "$$\n",
    "\\begin{equation}\n",
    "f(\\mathbf{q}) = \\sin(q_1)+a\\sin^2(q_2)+b\\,q_3^4\\sin(q_1) \\,,\n",
    "\\label{eq:ishigami}\\tag{4}\n",
    "\\end{equation}\n",
    "$$\n",
    "\n",
    "which is called [Ishigami](https://inis.iaea.org/search/search.aspx?orig_q=RN:21024954) function and widely used  to validate different methods in UQ. \n",
    "\n",
    "Here, $a$ and $b$ are two fixed parameters and the uncertain parameters $\\mathbf{q}=\\{q_1,q_2,q_3\\}$ have uniform distributions over the same range: $q_i\\sim \\mathcal{U}[-\\pi,\\pi]\\,,\\quad i=1,2,3$.\n",
    "The aim is to compute the main Sobol indices using `UQit` and validate them with the analytical values.\n",
    "\n",
    "The given model function (simulator) is implemented in `analyticTestFuncs.fEx3D` with keyword `Ishigami`. "
   ]
  },
  {
   "cell_type": "markdown",
   "metadata": {},
   "source": [
    "Set the number of samples for $q_1$, $q_2$ and $q_3$ and their associated admissible spaces $\\mathbb{Q}_1$, $\\mathbb{Q}_2$ and $\\mathbb{Q}_3$. Also set the model's fixed parameters $a$ and $b$."
   ]
  },
  {
   "cell_type": "code",
   "execution_count": 18,
   "metadata": {},
   "outputs": [],
   "source": [
    "n=[100, 70, 80]        #number of samples for q1, q2, q3\n",
    "qBound=[[-mt.pi,mt.pi],      #admissible space of the parameters\n",
    "        [-mt.pi,mt.pi],\n",
    "        [-mt.pi,mt.pi]]\n",
    "a=7   \n",
    "b=0.1"
   ]
  },
  {
   "cell_type": "markdown",
   "metadata": {},
   "source": [
    "Generate uniformly-spaced samples for parameters $q_1$ and $q_2$. Also define the PDFs."
   ]
  },
  {
   "cell_type": "code",
   "execution_count": 19,
   "metadata": {},
   "outputs": [],
   "source": [
    "q=[]\n",
    "pdf=[]\n",
    "for i in range(len(n)):\n",
    "    q.append(np.linspace(qBound[i][0],qBound[i][1],n[i]))\n",
    "    pdf.append(np.ones(n[i])/(qBound[i][1]-qBound[i][0]))"
   ]
  },
  {
   "cell_type": "markdown",
   "metadata": {},
   "source": [
    "**Step 4:** Run the simulator (4) at the parameter samples to generate training model outputs. We assume that a 3D sample parameter is obtained by tensor-product of the samples for $q_1$, $q_2$ and $q_3$. "
   ]
  },
  {
   "cell_type": "code",
   "execution_count": 20,
   "metadata": {},
   "outputs": [],
   "source": [
    "fEx_=analyticTestFuncs.fEx3D(q[0],q[1],q[2],'Ishigami','tensorProd',{'a':a,'b':b})\n",
    "fEx=np.reshape(fEx_.val,n,'F')"
   ]
  },
  {
   "cell_type": "markdown",
   "metadata": {},
   "source": [
    "Compute first- and second-order main Sobol sensitivity indices using `UQit`"
   ]
  },
  {
   "cell_type": "code",
   "execution_count": 21,
   "metadata": {},
   "outputs": [],
   "source": [
    "sobol_=sobol(q,fEx,pdf)\n",
    "Si=sobol_.Si\n",
    "Sij=sobol_.Sij\n",
    "SijName=sobol_.SijName\n",
    "STi=sobol_.STi"
   ]
  },
  {
   "cell_type": "markdown",
   "metadata": {},
   "source": [
    "Validate the computed Sobol indices through comparison with the analytical values.  "
   ]
  },
  {
   "cell_type": "code",
   "execution_count": 22,
   "metadata": {},
   "outputs": [],
   "source": [
    "fEx_.sobol(qBound)\n",
    "Si_ex=fEx_.Si\n",
    "STi_ex=fEx_.STi\n",
    "Sij_ex=fEx_.Sij"
   ]
  },
  {
   "cell_type": "markdown",
   "metadata": {},
   "source": [
    "**Results:**"
   ]
  },
  {
   "cell_type": "code",
   "execution_count": 23,
   "metadata": {},
   "outputs": [
    {
     "name": "stdout",
     "output_type": "stream",
     "text": [
      " > Main Indices by UQit : S1=0.313905, S2=0.442312, S3=5.64351e-32\n",
      " >                        S12=9.90498e-32, S13=0.243783, S23=8.41268e-32\n",
      " > Total Indices        : ST1=0.557688, ST2=0.442312, ST3=0.243783\n",
      " > Main Analytical Reference: S1=0.313905, S2=0.442411, S3=0\n",
      " >                           S12=0, S13=0.243684, S23=0\n",
      " > Total Indices            : ST1=0.557589, ST2=0.442411, ST3=0.243684\n"
     ]
    }
   ],
   "source": [
    "#UQit \n",
    "print(' > Main Indices by UQit : S1=%g, S2=%g, S3=%g' %(Si[0],Si[1],Si[2]))\n",
    "print(' >                        S12=%g, S13=%g, S23=%g' %(Sij[0],Sij[1],Sij[2]))\n",
    "print(' > Total Indices        : ST1=%g, ST2=%g, ST3=%g' %(STi[0],STi[1],STi[2]))\n",
    "#Reference\n",
    "print(' > Main Analytical Reference: S1=%g, S2=%g, S3=%g' %(Si_ex[0],Si_ex[1],Si_ex[2]))\n",
    "print(' >                           S12=%g, S13=%g, S23=%g' %(Sij_ex[0],Sij_ex[1],Sij_ex[2]))\n",
    "print(' > Total Indices            : ST1=%g, ST2=%g, ST3=%g' %(STi_ex[0],STi_ex[1],STi_ex[2]))"
   ]
  },
  {
   "cell_type": "markdown",
   "metadata": {},
   "source": [
    "### Example 4: Sobol indices for 4 parameters with Gaussian distributions"
   ]
  },
  {
   "cell_type": "markdown",
   "metadata": {},
   "source": [
    "Let's do Example 15.8 in [Smith](https://rsmith.math.ncsu.edu/UQ_TIA/).\n",
    "\n",
    "$$\n",
    "f(\\mathbf{q})=q_1 q_3 +q_2 q_4\n",
    "$$\n",
    "\n",
    "where $q_i\\sim\\mathcal{N}(0,\\sigma_i^2)$ for $i=1,2,3,4$. \n",
    "For different values of $\\sigma_i$, we can compare the Sobol indices computed by `UQit` with associted exact values. "
   ]
  },
  {
   "cell_type": "code",
   "execution_count": 24,
   "metadata": {},
   "outputs": [
    {
     "data": {
      "image/png": "[encoded data removed]",
      "text/plain": [
       "<Figure size 432x288 with 1 Axes>"
      ]
     },
     "metadata": {
      "needs_background": "light"
     },
     "output_type": "display_data"
    },
    {
     "name": "stdout",
     "output_type": "stream",
     "text": [
      "> Main Indices Si by UQit: [5.69332163e-35 4.46886262e-34 3.05804326e-35 1.63131702e-33]\n",
      "  Sij [1.24593888e-33 2.70270376e-02 1.20563049e-33 1.10254866e-33\n",
      " 9.72972962e-01 9.90293824e-34]\n",
      "> Reference Analytical Si: [0, 0, 0, 0]\n",
      "  Sij [0, 0.02702702702702703, 0, 0, 0.972972972972973, 0]\n"
     ]
    }
   ],
   "source": [
    "#Settings\n",
    "n=[60,60,60,60]       #number of samples for q1 and q2, Method1\n",
    "qBound=[[-30,30]]*4   #admissible range of parameters\n",
    "sig=[2.,3.,1,4]    #sdev of q's\n",
    "#(1) Samples from parameters space + the PDFs\n",
    "p=len(n)\n",
    "q=[]\n",
    "pdf=[]\n",
    "for i in range(p):\n",
    "    q.append(np.linspace(qBound[i][0],qBound[i][1],n[i]))\n",
    "    pdf_=np.exp(-q[i]**2/(2*sig[i]**2))/(sig[i]*mt.sqrt(2*mt.pi))\n",
    "    pdf.append(pdf_)\n",
    "#plot PDfs\n",
    "for i in range(p):\n",
    "   plt.plot(q[i],pdf[i],label='pdf of q'+str(i+1))\n",
    "plt.legend(loc='best')\n",
    "plt.show()\n",
    "#(2) Compute function value at the parameter samples\n",
    "fEx=np.zeros(n)\n",
    "for i3 in range(n[3]):\n",
    "    for i2 in range(n[2]):\n",
    "        for i1 in range(n[1]):\n",
    "            for i0 in range(n[0]):\n",
    "                fEx[i0,i1,i2,i3]=q[0][i0]*q[2][i2]+q[1][i1]*q[3][i3]\n",
    "#(3) Compute Sobol indices direct numerical integration\n",
    "sobol_=sobol(q,fEx,pdf=pdf)\n",
    "Si=sobol_.Si\n",
    "STi=sobol_.STi\n",
    "Sij=sobol_.Sij\n",
    "#(5) Exact Sobol indices (analytical expressions)\n",
    "Si_ex=[0]*p\n",
    "Sij_ex=[0,(sig[0]*sig[2])**2./((sig[0]*sig[2])**2.+(sig[1]*sig[3])**2.),0,0,\n",
    "        (sig[1]*sig[3])**2./((sig[1]*sig[3])**2.+(sig[0]*sig[2])**2.),0]\n",
    "#(6) Results\n",
    "print('> Main Indices Si by UQit:',Si)\n",
    "print('  Sij',Sij)\n",
    "print('> Reference Analytical Si:',Si_ex)\n",
    "print('  Sij',Sij_ex)"
   ]
  },
  {
   "cell_type": "markdown",
   "metadata": {},
   "source": [
    "### Example 5: Sobol indices for arbitrary number of parameters with uniform distributions"
   ]
  },
  {
   "cell_type": "markdown",
   "metadata": {},
   "source": [
    "Here we consider the test case which is considered in the original article by [Sobol](https://www.sciencedirect.com/science/article/abs/pii/S0378475400002706) as well as in Example 15.17 in [Smith](https://rsmith.math.ncsu.edu/UQ_TIA/):\n",
    "\n",
    "$$\n",
    "f(\\mathbf{q})=\\prod_{i=1}^p g_i(q_i)\\,,\\quad g_i(q_i)=\\frac{|4q_i-2|+a_i}{1+a_i}\\,, a_i\\geq 0\n",
    "$$\n",
    "\n",
    "Assume $q_i\\sim\\mathcal{U}[0,1]$ for $i=1,2,\\cdots,p$ for any $p>1$."
   ]
  },
  {
   "cell_type": "code",
   "execution_count": 25,
   "metadata": {},
   "outputs": [
    {
     "name": "stdout",
     "output_type": "stream",
     "text": [
      "Computed Indices by UQit:\n",
      " Si: [0.13445718 0.21002473 0.06285799 0.15448376 0.1947089 ]\n",
      " Sij-Name: ['S12', 'S13', 'S14', 'S15', 'S23', 'S24', 'S25', 'S34', 'S35', 'S45']\n",
      " Sij: [0.0309405  0.00926014 0.0227583  0.0286842  0.01446451 0.0355489\n",
      " 0.04480528 0.01063938 0.0134097  0.03295654]\n",
      " STi: [0.22610031 0.33578393 0.11063172 0.25638687 0.31456462]\n",
      "Exact Sobol Indices:\n",
      " Si: [0.12932295 0.2020671  0.06011914 0.14845746 0.18622504]\n",
      " Sij: [0.02993587 0.00890654 0.0219937  0.0275889  0.01391647 0.03436515\n",
      " 0.04310765 0.01022434 0.01282542 0.03167093]\n"
     ]
    }
   ],
   "source": [
    "#---SETTINGS ---------------\n",
    "a=[0.5,0.2,1.2,0.4,0.25]   #coefficients in the model => p is determined from the length of this list\n",
    "nSamp=[20,20,21,22,25]   \n",
    "#---------------------------\n",
    "p=len(a)\n",
    "qBound=[[0,1]]*p\n",
    "#Generate samples, compute PDFs and evaluate model response at the samples\n",
    "q=[]\n",
    "pdf=[]\n",
    "for i in range(p):\n",
    "    q_=np.linspace(qBound[i][0],qBound[i][1],nSamp[i])\n",
    "    q.append(q_)\n",
    "    pdf.append(np.ones(nSamp[i])/(qBound[i][1]-qBound[i][0]))\n",
    "    fEx_=(abs(4*q_-2)+a[i])/(1+a[i])\n",
    "    if i==0:\n",
    "       fEx=fEx_\n",
    "    else:\n",
    "       fEx=np.tensordot(fEx,fEx_,0)\n",
    "#Computed Sobol indices\n",
    "sobol_=sobol(q,fEx,pdf)\n",
    "#Exact reference Sobol indices (Smith, p.336)\n",
    "Di=[]\n",
    "Dsum=1\n",
    "for i in range(p):\n",
    "    Di.append(1/(3*(1+a[i])**2.))\n",
    "    Dsum*=(1+Di[i])\n",
    "Dsum=-1+Dsum\n",
    "Di=np.asarray(Di)\n",
    "Si=Di/Dsum\n",
    "Dij=[]\n",
    "for i in range(p):\n",
    "    for j in range(p):\n",
    "        if i!=j and i<j:\n",
    "           Dij.append(Di[i]*Di[j])\n",
    "Dij=np.asarray(Dij)\n",
    "Sij=Dij/Dsum\n",
    "print('Computed Indices by UQit:')\n",
    "print(' Si:',sobol_.Si)\n",
    "print(' Sij-Name:',sobol_.SijName)\n",
    "print(' Sij:',sobol_.Sij)\n",
    "print(' STi:',sobol_.STi)\n",
    "print('Exact Sobol Indices:')\n",
    "print(' Si:',Si)\n",
    "print(' Sij:',Sij)"
   ]
  }
 ],
 "metadata": {
  "kernelspec": {
   "display_name": "Python 3",
   "language": "python",
   "name": "python3"
  },
  "language_info": {
   "codemirror_mode": {
    "name": "ipython",
    "version": 3
   },
   "file_extension": ".py",
   "mimetype": "text/x-python",
   "name": "python",
   "nbconvert_exporter": "python",
   "pygments_lexer": "ipython3",
   "version": "3.7.4"
  }
 },
 "nbformat": 4,
 "nbformat_minor": 2
}
