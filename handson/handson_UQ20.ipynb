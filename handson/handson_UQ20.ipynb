{
 "cells": [
  {
   "cell_type": "markdown",
   "metadata": {},
   "source": [
    "## UQ Course, Dec. 2020, Hands-on Exercise"
   ]
  },
  {
   "cell_type": "markdown",
   "metadata": {},
   "source": [
    "Consider a damped harmonic oscillator for which:\n",
    "$$\n",
    "\\begin{cases}\n",
    "\\ddot{y} + C\\dot{y}+K y =0,\\\\\n",
    "y(0)=y_0\\,,\\dot{y}(0)=v_0 \n",
    "\\end{cases}\n",
    "$$\n",
    "\n",
    "where, the damping coefficient $C$ and the spring constant $K$ are random: $C\\sim \\mathcal{N}(\\bar{C},\\sigma^2_C)$ and $K\\sim \\mathcal{N}(\\bar{K},\\sigma^2_K)$.\n",
    "\n",
    "The exact solution for $y(t;C,K)$ is given by:\n",
    "$$\n",
    "y(t) = \\exp(-Ct/2) \\left(c_1 \\cos(\\omega t) + c_2 \\sin(\\omega t) \\right) \\,,\n",
    "$$\n",
    "\n",
    "where $c_1=y_0$ and $c_2=(v_0+Cy_0/2)/\\omega$, and $\\omega = \\sqrt{K-C^2/4}$. "
   ]
  },
  {
   "cell_type": "markdown",
   "metadata": {},
   "source": [
    "Consider the following values:\n",
    "* $\\bar{C}=1$, $\\sigma_C=0.2$\n",
    "* $\\bar{K}=12$, $\\sigma_K=1.0$\n",
    "* $y_0=0$, $v_0=1$"
   ]
  },
  {
   "cell_type": "markdown",
   "metadata": {},
   "source": [
    "In the UQ forward problem, we aim at estimating the uncertainty propagated from $C$ and $K$ into $y(t)$ for $t\\in[0,T]$, where $T=10$. \n",
    "\n",
    "In this exercise, we perform the UQ forward problem through the following approaches to estimate $\\mathbb{E}[y(t)]$ and $\\mathbb{V}[y(t)]$:\n",
    "\n",
    "#### 1. Monte-Carlo method.\n",
    "#### 2. Polynomial chaos expansion (PCE) as implemented in `UQit`.\n",
    "#### 3. Perturbation method. (optional)\n",
    "\n",
    "\n",
    "Also, we would like to perform global sensitivity analysis to see the relative importance of $C$ and $K$ at different times. Therefore, the next task is to:\n",
    "#### 4. Compute the Sobol sensitivity indices to address the sensitivity of $y(t)$ to $C$ and $K$.\n",
    "\n",
    "Hint. Note that the statsitical moments are $t$-dependent, so we need a loop over time. "
   ]
  },
  {
   "cell_type": "markdown",
   "metadata": {},
   "source": [
    "-----------------------------"
   ]
  },
  {
   "cell_type": "code",
   "execution_count": 6,
   "metadata": {},
   "outputs": [],
   "source": [
    "import numpy as np\n",
    "import math as mt\n",
    "import matplotlib.pyplot as plt\n",
    "# UQit tools\n",
    "from UQit.pce import pce,pceEval,convPlot\n",
    "from UQit.sampling import trainSample\n",
    "from UQit.reshaper import vecs2grid\n",
    "from UQit.sobol import sobol"
   ]
  },
  {
   "cell_type": "markdown",
   "metadata": {},
   "source": [
    "The following function returns $y$ at a given $t$ and given values of $C$ and $K$. Note that the values for the $C$ and $K$ can be `numpy` arrays."
   ]
  },
  {
   "cell_type": "code",
   "execution_count": 7,
   "metadata": {},
   "outputs": [],
   "source": [
    "def modelFunc(t,C,K,y0=0.,v0=1.0):\n",
    "    \"\"\"\n",
    "    model function for harmonic oscillation                    \n",
    "    Args:\n",
    "       t: time\n",
    "       C: damping coeffcient\n",
    "       K: spring constant\n",
    "       y0: initial location\n",
    "       v0: initial velocity\n",
    "    Returns:   \n",
    "       y: location at time t \n",
    "    \"\"\"\n",
    "    tmp=K-C**2./4.\n",
    "    if tmp.any()<0:\n",
    "       raise ValueError('Overdamped case!')\n",
    "    else:\n",
    "       freq=np.sqrt(tmp)\n",
    "    c2=(v0+C*y0/2.)/freq\n",
    "    y=np.exp(-C*t/2)*(y0*np.cos(freq*t)+c2*np.sin(freq*t))\n",
    "    return y"
   ]
  },
  {
   "cell_type": "markdown",
   "metadata": {},
   "source": [
    "### 1. Monte Carlo:"
   ]
  },
  {
   "cell_type": "code",
   "execution_count": null,
   "metadata": {},
   "outputs": [],
   "source": []
  },
  {
   "cell_type": "markdown",
   "metadata": {},
   "source": [
    "### 2. PCE:"
   ]
  },
  {
   "cell_type": "code",
   "execution_count": null,
   "metadata": {},
   "outputs": [],
   "source": []
  },
  {
   "cell_type": "markdown",
   "metadata": {},
   "source": [
    "### 3. Perturbation method (Optional):"
   ]
  },
  {
   "cell_type": "code",
   "execution_count": null,
   "metadata": {},
   "outputs": [],
   "source": []
  },
  {
   "cell_type": "markdown",
   "metadata": {},
   "source": [
    "### 4. Compute Sobol sensitivity indices"
   ]
  },
  {
   "cell_type": "markdown",
   "metadata": {},
   "source": [
    "Hint: The PDF of a Gaussian random variable $x\\sim\\mathcal{N}(\\mu,\\sigma^2)$ is defined as, \n",
    "$$\n",
    "\\rho_X(x) = \\frac{1}{\\sqrt{2\\pi} \\sigma} \\exp\\left(-(x-\\mu)^2/2\\sigma^2\\right)\n",
    "$$"
   ]
  },
  {
   "cell_type": "code",
   "execution_count": null,
   "metadata": {},
   "outputs": [],
   "source": []
  }
 ],
 "metadata": {
  "kernelspec": {
   "display_name": "Python 3",
   "language": "python",
   "name": "python3"
  },
  "language_info": {
   "codemirror_mode": {
    "name": "ipython",
    "version": 3
   },
   "file_extension": ".py",
   "mimetype": "text/x-python",
   "name": "python",
   "nbconvert_exporter": "python",
   "pygments_lexer": "ipython3",
   "version": "3.7.4"
  }
 },
 "nbformat": 4,
 "nbformat_minor": 2
}
